{
 "cells": [
  {
   "cell_type": "markdown",
   "id": "1589add2-9f20-43cc-860f-a14467038d1b",
   "metadata": {
    "tags": []
   },
   "source": [
    "# Data Science Tools and Ecosystem"
   ]
  },
  {
   "cell_type": "markdown",
   "id": "a3877468-e714-4b0a-a690-3711a2a07a6c",
   "metadata": {},
   "source": [
    "## Author\n",
    "Jared Loera-Trisciuzzi"
   ]
  },
  {
   "cell_type": "markdown",
   "id": "156978b7-2fc7-4ccf-91cc-959838edcf6d",
   "metadata": {},
   "source": [
    "In this notebook, Data Science Tools and Ecosystem are summarized."
   ]
  },
  {
   "cell_type": "markdown",
   "id": "521508c3-94a6-4201-9507-7c868927fa50",
   "metadata": {},
   "source": [
    "**Objectives:**\n",
    "* List Popular Languages for Data Science\n",
    "* List Popular Libraries for Data Science\n",
    "* Table Showing Some Common Development Environments for Data Science\n",
    "* Demonstrate Simple Mathematical Calculations and Outputs in Jupyter Notebook"
   ]
  },
  {
   "cell_type": "markdown",
   "id": "209fa5ec-d710-4f49-ac86-5ac221bf9556",
   "metadata": {},
   "source": [
    "**Some of the popular languages that Data Scientists use are:**\n",
    "1. Python\n",
    "2. R\n",
    "3. Julia"
   ]
  },
  {
   "cell_type": "markdown",
   "id": "b43acb8d-e346-4895-af12-6ccab4506eda",
   "metadata": {},
   "source": [
    "**Some of the commonly used libraries used by Data Scientists include:**\n",
    "1. NumPy\n",
    "2. Pandas\n",
    "3. Matplotlib"
   ]
  },
  {
   "cell_type": "markdown",
   "id": "f976baec-a4e2-4799-b5db-acf976d3a953",
   "metadata": {},
   "source": [
    "|Data Science Tools |\n",
    "| ------ |\n",
    "|Jupyter Notebook |\n",
    "|Visual Studio |\n",
    "|R Studio |"
   ]
  },
  {
   "cell_type": "markdown",
   "id": "96a08c44-538d-4529-b8fa-a834beb85bb5",
   "metadata": {},
   "source": [
    "### Below are a few examples of evaluating arithmetic expressions in Python"
   ]
  },
  {
   "cell_type": "code",
   "execution_count": 15,
   "id": "00160adf-20d4-424f-b0c8-e3bd8e70bd09",
   "metadata": {
    "tags": []
   },
   "outputs": [
    {
     "data": {
      "text/plain": [
       "17"
      ]
     },
     "execution_count": 15,
     "metadata": {},
     "output_type": "execute_result"
    }
   ],
   "source": [
    "## This a simple arithmetic expression to mutiply then add integers\n",
    "(3*4)+5"
   ]
  },
  {
   "cell_type": "code",
   "execution_count": 16,
   "id": "6ac488fa-8a7a-4e2d-b37f-e473cb9207fe",
   "metadata": {
    "tags": []
   },
   "outputs": [
    {
     "data": {
      "text/plain": [
       "3.3333333333333335"
      ]
     },
     "execution_count": 16,
     "metadata": {},
     "output_type": "execute_result"
    }
   ],
   "source": [
    "## This will convert 200 minutes to hours by diving by 60\n",
    "200 / 60"
   ]
  }
 ],
 "metadata": {
  "kernelspec": {
   "display_name": "Python 3 (ipykernel)",
   "language": "python",
   "name": "python3"
  },
  "language_info": {
   "codemirror_mode": {
    "name": "ipython",
    "version": 3
   },
   "file_extension": ".py",
   "mimetype": "text/x-python",
   "name": "python",
   "nbconvert_exporter": "python",
   "pygments_lexer": "ipython3",
   "version": "3.11.5"
  }
 },
 "nbformat": 4,
 "nbformat_minor": 5
}
